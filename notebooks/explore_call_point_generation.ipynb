{
 "cells": [
  {
   "cell_type": "code",
   "execution_count": null,
   "metadata": {},
   "outputs": [
    {
     "name": "stdout",
     "output_type": "stream",
     "text": [
      "         lat        lon                  timestamp\n",
      "0  40.517969 -74.298845 2025-02-16 13:54:43.559362\n",
      "1  40.596375 -73.765885 2025-02-16 13:52:14.559362\n",
      "2  40.899151 -73.762868 2025-02-16 13:48:33.559362\n",
      "3  40.802635 -74.193544 2025-02-16 13:48:20.559362\n",
      "4  40.630983 -74.155055 2025-02-16 13:49:39.559362\n"
     ]
    }
   ],
   "source": [
    "import numpy as np\n",
    "import pandas as pd\n",
    "from dataclasses import dataclass\n",
    "\n",
    "\n",
    "@dataclass\n",
    "class BoundingBox:\n",
    "    min_lat: float\n",
    "    max_lat: float\n",
    "    min_lon: float\n",
    "    max_lon: float\n",
    "\n",
    "\n",
    "# TIME_GAP = 15 * 60  # 15 minutes in seconds\n",
    "\n",
    "\n",
    "# function to generate n timestamps randomly over last 15 minutes\n",
    "def generate_timestamps(n: int) -> pd.Series:\n",
    "    # generate n random integers between 0 and 15*60\n",
    "    seconds = np.random.randint(0, TIME_GAP, n)\n",
    "    # subtract the seconds from the current time\n",
    "    now = pd.Timestamp.now()\n",
    "    timestamps = now - pd.to_timedelta(seconds, unit=\"s\")\n",
    "    return timestamps\n",
    "\n",
    "\n",
    "# create latitudes and longitudes within a bounding box\n",
    "# also add a timestamp to each point to simulate a time series\n",
    "def generate_points(n: int, bbox: BoundingBox) -> pd.DataFrame:\n",
    "    lats = np.random.uniform(bbox.min_lat, bbox.max_lat, n)\n",
    "    lons = np.random.uniform(bbox.min_lon, bbox.max_lon, n)\n",
    "    timestamps = generate_timestamps(n)\n",
    "    return pd.DataFrame({\"lat\": lats, \"lon\": lons, \"timestamp\": timestamps})\n",
    "\n",
    "\n",
    "# create a bounding box\n",
    "bbox = BoundingBox(40.5, 40.9, -74.3, -73.7)\n",
    "\n",
    "# generate 1000 points within the bounding box\n",
    "df = generate_points(1000, bbox)\n",
    "print(df.head())"
   ]
  },
  {
   "cell_type": "code",
   "execution_count": 2,
   "metadata": {},
   "outputs": [
    {
     "data": {
      "text/plain": [
       "'/Users/kzc0l4/arcdemo/notebooks'"
      ]
     },
     "execution_count": 2,
     "metadata": {},
     "output_type": "execute_result"
    }
   ],
   "source": [
    "%pwd"
   ]
  },
  {
   "cell_type": "code",
   "execution_count": 3,
   "metadata": {},
   "outputs": [
    {
     "data": {
      "text/plain": [
       "'/Users/kzc0l4/arcdemo'"
      ]
     },
     "execution_count": 3,
     "metadata": {},
     "output_type": "execute_result"
    }
   ],
   "source": [
    "import os\n",
    "\n",
    "os.chdir(\"../\")\n",
    "%pwd"
   ]
  },
  {
   "cell_type": "code",
   "execution_count": 5,
   "metadata": {},
   "outputs": [],
   "source": [
    "df.to_csv(\"data/call_logs.csv\", index=False)"
   ]
  },
  {
   "cell_type": "code",
   "execution_count": 21,
   "metadata": {},
   "outputs": [],
   "source": [
    "from pathlib import Path\n",
    "\n",
    "\n",
    "@dataclass\n",
    "class BoundingBox:\n",
    "    min_lat: float\n",
    "    max_lat: float\n",
    "    min_lon: float\n",
    "    max_lon: float\n",
    "\n",
    "\n",
    "@dataclass(frozen=True)\n",
    "class DataGenerationConfig:\n",
    "    number_of_samples: int\n",
    "    local_data_file: Path\n",
    "    bbox: BoundingBox"
   ]
  },
  {
   "cell_type": "code",
   "execution_count": 7,
   "metadata": {},
   "outputs": [
    {
     "data": {
      "text/plain": [
       "'/Users/kzc0l4/arcdemo/src'"
      ]
     },
     "execution_count": 7,
     "metadata": {},
     "output_type": "execute_result"
    }
   ],
   "source": [
    "os.chdir(\"src/\")\n",
    "%pwd"
   ]
  },
  {
   "cell_type": "code",
   "execution_count": null,
   "metadata": {},
   "outputs": [
    {
     "name": "stdout",
     "output_type": "stream",
     "text": [
      "<class 'module'>\n"
     ]
    }
   ],
   "source": []
  },
  {
   "cell_type": "code",
   "execution_count": null,
   "metadata": {},
   "outputs": [],
   "source": [
    "from arcdemo.constants import CONFIG_FILE_PATH\n",
    "from arcdemo.utils.common import read_config\n",
    "from arcdemo.entity.config_entity import BoundingBox, DataGenerationConfig  # noqa: F811\n",
    "\n",
    "\n",
    "class ConfigurationManager:\n",
    "    def __init__(self, config_filepath=CONFIG_FILE_PATH):\n",
    "        self.config = read_config(config_filepath)\n",
    "\n",
    "    def get_data_generation_config(self) -> DataGenerationConfig:\n",
    "        config = self.config.data_generation\n",
    "\n",
    "        data_generation_config = DataGenerationConfig(\n",
    "            number_of_samples=config.number_of_samples,\n",
    "            local_data_file=config.local_data_file,\n",
    "            bbox=BoundingBox(\n",
    "                min_lat=config.bbox.min_lat,\n",
    "                max_lat=config.bbox.max_lat,\n",
    "                min_lon=config.bbox.min_lon,\n",
    "                max_lon=config.bbox.max_lon,\n",
    "            ),\n",
    "        )\n",
    "\n",
    "        return data_generation_config"
   ]
  },
  {
   "cell_type": "code",
   "execution_count": 25,
   "metadata": {},
   "outputs": [
    {
     "name": "stdout",
     "output_type": "stream",
     "text": [
      "[2025-02-16 14:36:50,340: INFO: common: Config file loaded: confs/config.yaml]\n",
      "DataGenerationConfig(number_of_samples=1000, local_data_file='data/call_logs.csv', bbox=BoundingBox(min_lat=37.7749, max_lat=37.7755, min_lon=-122.4194, max_lon=-122.4184))\n"
     ]
    }
   ],
   "source": [
    "# os.chdir(\"../\")\n",
    "config = ConfigurationManager()\n",
    "\n",
    "print(config.get_data_generation_config())"
   ]
  },
  {
   "cell_type": "code",
   "execution_count": 5,
   "metadata": {},
   "outputs": [],
   "source": [
    "import sys\n",
    "import os\n",
    "\n",
    "sys.path.append(os.path.abspath(\"src\"))"
   ]
  },
  {
   "cell_type": "code",
   "execution_count": null,
   "metadata": {},
   "outputs": [],
   "source": [
    "# Description: Generate random points within a bounding box.\n",
    "import pandas as pd\n",
    "\n",
    "from arcdemo.constants import TIME_GAP\n",
    "from arcdemo.entity.config_entity import DataGenerationConfig\n",
    "\n",
    "\n",
    "class DataGeneration:\n",
    "    \"\"\"\n",
    "    Generate random points within a bounding box.\n",
    "    \"\"\"\n",
    "\n",
    "    def __init__(self, config: DataGenerationConfig):\n",
    "        self.config = config\n",
    "\n",
    "    def _generate_timestamps(self) -> pd.Series:\n",
    "        \"\"\"\n",
    "        Generate n random timestamps within the last TIME_GAP seconds.\n",
    "        \"\"\"\n",
    "        # generate n random integers between 0 and 15*60\n",
    "        seconds = np.random.randint(0, TIME_GAP, self.config.number_of_samples)\n",
    "        # subtract the seconds from the current time\n",
    "        now = pd.Timestamp.now()\n",
    "        timestamps = now - pd.to_timedelta(seconds, unit=\"s\")\n",
    "        return timestamps\n",
    "\n",
    "    def _generate_points(self) -> pd.DataFrame:\n",
    "        \"\"\"\n",
    "        Generate n random points within the bounding box.\n",
    "        \"\"\"\n",
    "        n = self.config.number_of_samples\n",
    "        bbox = self.config.bbox\n",
    "        lats = np.random.uniform(bbox.min_lat, bbox.max_lat, n)\n",
    "        lons = np.random.uniform(bbox.min_lon, bbox.max_lon, n)\n",
    "        timestamps = self._generate_timestamps()\n",
    "        return pd.DataFrame(\n",
    "            {\n",
    "                \"lat\": lats,\n",
    "                \"lon\": lons,\n",
    "                \"timestamp\": timestamps,\n",
    "            }\n",
    "        )\n",
    "\n",
    "    def save_points(self) -> pd.DataFrame:\n",
    "        \"\"\"\n",
    "        Save the generated points to a local file.\n",
    "        \"\"\"\n",
    "        points = self._generate_points()\n",
    "        points.to_csv(self.config.local_data_file, index=False)\n",
    "        return points"
   ]
  },
  {
   "cell_type": "code",
   "execution_count": 11,
   "metadata": {},
   "outputs": [
    {
     "name": "stdout",
     "output_type": "stream",
     "text": [
      "[2025-02-16 15:05:25,745: INFO: common: Config file loaded: confs/config.yaml]\n"
     ]
    }
   ],
   "source": [
    "config = ConfigurationManager()\n",
    "data_generation_config = config.get_data_generation_config()\n",
    "data_generation = DataGeneration(config=data_generation_config)\n",
    "# bbox = BoundingBox(40.5, 40.9, -74.3, -73.7)\n",
    "df = data_generation.save_points()"
   ]
  },
  {
   "cell_type": "code",
   "execution_count": 12,
   "metadata": {},
   "outputs": [
    {
     "data": {
      "text/plain": [
       "lat          1000\n",
       "lon          1000\n",
       "timestamp    1000\n",
       "dtype: int64"
      ]
     },
     "execution_count": 12,
     "metadata": {},
     "output_type": "execute_result"
    }
   ],
   "source": [
    "df.count()"
   ]
  }
 ],
 "metadata": {
  "kernelspec": {
   "display_name": "venv",
   "language": "python",
   "name": "python3"
  },
  "language_info": {
   "codemirror_mode": {
    "name": "ipython",
    "version": 3
   },
   "file_extension": ".py",
   "mimetype": "text/x-python",
   "name": "python",
   "nbconvert_exporter": "python",
   "pygments_lexer": "ipython3",
   "version": "3.11.11"
  }
 },
 "nbformat": 4,
 "nbformat_minor": 2
}
