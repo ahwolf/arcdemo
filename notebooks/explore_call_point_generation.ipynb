{
 "cells": [
  {
   "cell_type": "code",
   "execution_count": 2,
   "metadata": {},
   "outputs": [
    {
     "name": "stdout",
     "output_type": "stream",
     "text": [
      "         lat        lon                  timestamp\n",
      "0  40.896328 -74.021792 2025-02-16 11:20:57.835817\n",
      "1  40.668016 -73.899928 2025-02-16 11:18:16.835817\n",
      "2  40.877178 -73.972028 2025-02-16 11:18:47.835817\n",
      "3  40.502180 -73.950644 2025-02-16 11:16:15.835817\n",
      "4  40.734315 -73.871936 2025-02-16 11:08:54.835817\n"
     ]
    }
   ],
   "source": [
    "import numpy as np\n",
    "import pandas as pd\n",
    "from dataclasses import dataclass\n",
    "\n",
    "@dataclass\n",
    "class BoundingBox:\n",
    "    min_lat: float\n",
    "    max_lat: float\n",
    "    min_lon: float\n",
    "    max_lon: float\n",
    "\n",
    "TIME_GAP = 15*60  # 15 minutes in seconds\n",
    "\n",
    "# function to generate n timestamps randomly over last 15 minutes\n",
    "def generate_timestamps(n: int) -> pd.Series:\n",
    "    # generate n random integers between 0 and 15*60\n",
    "    seconds = np.random.randint(0, TIME_GAP, n)\n",
    "    # subtract the seconds from the current time\n",
    "    now = pd.Timestamp.now()\n",
    "    timestamps = now - pd.to_timedelta(seconds, unit='s')\n",
    "    return timestamps\n",
    "\n",
    "# create latitudes and longitudes within a bounding box\n",
    "# also add a timestamp to each point to simulate a time series\n",
    "def generate_points(n: int, bbox: BoundingBox) -> pd.DataFrame:\n",
    "    lats = np.random.uniform(bbox.min_lat, bbox.max_lat, n)\n",
    "    lons = np.random.uniform(bbox.min_lon, bbox.max_lon, n)\n",
    "    timestamps = generate_timestamps(n)\n",
    "    return pd.DataFrame({'lat': lats, 'lon': lons, 'timestamp': timestamps})\n",
    "\n",
    "# create a bounding box\n",
    "bbox = BoundingBox(40.5, 40.9, -74.3, -73.7)\n",
    "\n",
    "# generate 1000 points within the bounding box\n",
    "df = generate_points(1000, bbox)\n",
    "print(df.head())\n"
   ]
  }
 ],
 "metadata": {
  "kernelspec": {
   "display_name": "venv",
   "language": "python",
   "name": "python3"
  },
  "language_info": {
   "codemirror_mode": {
    "name": "ipython",
    "version": 3
   },
   "file_extension": ".py",
   "mimetype": "text/x-python",
   "name": "python",
   "nbconvert_exporter": "python",
   "pygments_lexer": "ipython3",
   "version": "3.11.11"
  }
 },
 "nbformat": 4,
 "nbformat_minor": 2
}
