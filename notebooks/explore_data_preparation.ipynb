{
 "cells": [
  {
   "cell_type": "code",
   "execution_count": 1,
   "metadata": {},
   "outputs": [
    {
     "data": {
      "text/plain": [
       "'/Users/kzc0l4/arcdemo/notebooks'"
      ]
     },
     "execution_count": 1,
     "metadata": {},
     "output_type": "execute_result"
    }
   ],
   "source": [
    "import os\n",
    "\n",
    "%pwd"
   ]
  },
  {
   "cell_type": "code",
   "execution_count": 12,
   "metadata": {},
   "outputs": [
    {
     "data": {
      "text/plain": [
       "'/Users/kzc0l4/arcdemo'"
      ]
     },
     "execution_count": 12,
     "metadata": {},
     "output_type": "execute_result"
    }
   ],
   "source": [
    "os.chdir(\"../\")\n",
    "%pwd"
   ]
  },
  {
   "cell_type": "code",
   "execution_count": 46,
   "metadata": {},
   "outputs": [
    {
     "data": {
      "text/html": [
       "<div>\n",
       "<style scoped>\n",
       "    .dataframe tbody tr th:only-of-type {\n",
       "        vertical-align: middle;\n",
       "    }\n",
       "\n",
       "    .dataframe tbody tr th {\n",
       "        vertical-align: top;\n",
       "    }\n",
       "\n",
       "    .dataframe thead th {\n",
       "        text-align: right;\n",
       "    }\n",
       "</style>\n",
       "<table border=\"1\" class=\"dataframe\">\n",
       "  <thead>\n",
       "    <tr style=\"text-align: right;\">\n",
       "      <th></th>\n",
       "      <th>lat</th>\n",
       "      <th>lon</th>\n",
       "      <th>timestamp</th>\n",
       "    </tr>\n",
       "  </thead>\n",
       "  <tbody>\n",
       "    <tr>\n",
       "      <th>0</th>\n",
       "      <td>37.775217</td>\n",
       "      <td>-122.418489</td>\n",
       "      <td>2025-02-16 15:30:37.020819</td>\n",
       "    </tr>\n",
       "    <tr>\n",
       "      <th>1</th>\n",
       "      <td>37.775497</td>\n",
       "      <td>-122.418479</td>\n",
       "      <td>2025-02-16 15:18:21.020819</td>\n",
       "    </tr>\n",
       "    <tr>\n",
       "      <th>2</th>\n",
       "      <td>37.775283</td>\n",
       "      <td>-122.419299</td>\n",
       "      <td>2025-02-16 15:20:29.020819</td>\n",
       "    </tr>\n",
       "    <tr>\n",
       "      <th>3</th>\n",
       "      <td>37.774932</td>\n",
       "      <td>-122.418852</td>\n",
       "      <td>2025-02-16 15:20:16.020819</td>\n",
       "    </tr>\n",
       "    <tr>\n",
       "      <th>4</th>\n",
       "      <td>37.775481</td>\n",
       "      <td>-122.418644</td>\n",
       "      <td>2025-02-16 15:31:15.020819</td>\n",
       "    </tr>\n",
       "  </tbody>\n",
       "</table>\n",
       "</div>"
      ],
      "text/plain": [
       "         lat         lon                   timestamp\n",
       "0  37.775217 -122.418489  2025-02-16 15:30:37.020819\n",
       "1  37.775497 -122.418479  2025-02-16 15:18:21.020819\n",
       "2  37.775283 -122.419299  2025-02-16 15:20:29.020819\n",
       "3  37.774932 -122.418852  2025-02-16 15:20:16.020819\n",
       "4  37.775481 -122.418644  2025-02-16 15:31:15.020819"
      ]
     },
     "execution_count": 46,
     "metadata": {},
     "output_type": "execute_result"
    }
   ],
   "source": [
    "import pandas as pd\n",
    "\n",
    "df = pd.read_csv(\"../data/call_logs.csv\")\n",
    "df.head()"
   ]
  },
  {
   "cell_type": "code",
   "execution_count": 49,
   "metadata": {},
   "outputs": [],
   "source": [
    "now = pd.Timestamp.now()\n",
    "df[\"timestamp\"] = pd.to_datetime(df[\"timestamp\"])\n",
    "oldest_valid_value = now - pd.to_timedelta(3, unit=\"hours\")\n",
    "df = df[df[\"timestamp\"] >= oldest_valid_value]"
   ]
  },
  {
   "cell_type": "code",
   "execution_count": 24,
   "metadata": {},
   "outputs": [
    {
     "data": {
      "text/html": [
       "<div>\n",
       "<style scoped>\n",
       "    .dataframe tbody tr th:only-of-type {\n",
       "        vertical-align: middle;\n",
       "    }\n",
       "\n",
       "    .dataframe tbody tr th {\n",
       "        vertical-align: top;\n",
       "    }\n",
       "\n",
       "    .dataframe thead th {\n",
       "        text-align: right;\n",
       "    }\n",
       "</style>\n",
       "<table border=\"1\" class=\"dataframe\">\n",
       "  <thead>\n",
       "    <tr style=\"text-align: right;\">\n",
       "      <th></th>\n",
       "      <th>lat</th>\n",
       "      <th>lon</th>\n",
       "      <th>timestamp</th>\n",
       "      <th>geohash</th>\n",
       "    </tr>\n",
       "  </thead>\n",
       "  <tbody>\n",
       "    <tr>\n",
       "      <th>2375</th>\n",
       "      <td>37.770439</td>\n",
       "      <td>-122.446066</td>\n",
       "      <td>2025-02-16 16:18:30.090597</td>\n",
       "      <td>9q8yve</td>\n",
       "    </tr>\n",
       "    <tr>\n",
       "      <th>3174</th>\n",
       "      <td>37.770225</td>\n",
       "      <td>-122.449171</td>\n",
       "      <td>2025-02-16 16:22:57.297603</td>\n",
       "      <td>9q8yve</td>\n",
       "    </tr>\n",
       "    <tr>\n",
       "      <th>2662</th>\n",
       "      <td>37.770213</td>\n",
       "      <td>-122.443306</td>\n",
       "      <td>2025-02-16 16:23:51.090597</td>\n",
       "      <td>9q8yve</td>\n",
       "    </tr>\n",
       "    <tr>\n",
       "      <th>3970</th>\n",
       "      <td>37.770083</td>\n",
       "      <td>-122.447129</td>\n",
       "      <td>2025-02-16 16:23:58.297603</td>\n",
       "      <td>9q8yve</td>\n",
       "    </tr>\n",
       "    <tr>\n",
       "      <th>3451</th>\n",
       "      <td>37.770995</td>\n",
       "      <td>-122.446312</td>\n",
       "      <td>2025-02-16 16:26:05.297603</td>\n",
       "      <td>9q8yve</td>\n",
       "    </tr>\n",
       "  </tbody>\n",
       "</table>\n",
       "</div>"
      ],
      "text/plain": [
       "            lat         lon                   timestamp geohash\n",
       "2375  37.770439 -122.446066  2025-02-16 16:18:30.090597  9q8yve\n",
       "3174  37.770225 -122.449171  2025-02-16 16:22:57.297603  9q8yve\n",
       "2662  37.770213 -122.443306  2025-02-16 16:23:51.090597  9q8yve\n",
       "3970  37.770083 -122.447129  2025-02-16 16:23:58.297603  9q8yve\n",
       "3451  37.770995 -122.446312  2025-02-16 16:26:05.297603  9q8yve"
      ]
     },
     "execution_count": 24,
     "metadata": {},
     "output_type": "execute_result"
    }
   ],
   "source": [
    "import geohash\n",
    "\n",
    "df[\"geohash\"] = df.apply(lambda row: geohash.encode(row[\"lat\"], row[\"lon\"], precision=6), axis=1)\n",
    "\n",
    "# Sort by geohash and timestamp\n",
    "df = df.sort_values(by=[\"geohash\", \"timestamp\"])\n",
    "df.head()"
   ]
  },
  {
   "cell_type": "code",
   "execution_count": null,
   "metadata": {},
   "outputs": [
    {
     "name": "stdout",
     "output_type": "stream",
     "text": [
      "   geohash           timestamp  count\n",
      "0   9q8yve 2025-02-16 16:15:00      6\n",
      "1   9q8yvg 2025-02-16 16:15:00     12\n",
      "2   9q8yvg 2025-02-16 16:30:00      1\n",
      "3   9q8yvs 2025-02-16 16:15:00     30\n",
      "4   9q8yvs 2025-02-16 16:30:00      5\n",
      "..     ...                 ...    ...\n",
      "78  9q8zn7 2025-02-16 16:30:00      4\n",
      "79  9q8znh 2025-02-16 16:15:00     53\n",
      "80  9q8znh 2025-02-16 16:30:00      4\n",
      "81  9q8znk 2025-02-16 16:15:00     40\n",
      "82  9q8znk 2025-02-16 16:30:00      2\n",
      "\n",
      "[83 rows x 3 columns]\n"
     ]
    }
   ],
   "source": [
    "TIME_GAP = 15 * 60  # 15 minutes\n",
    "df[\"timestamp\"] = pd.to_datetime(df[\"timestamp\"])\n",
    "df = df.sort_values(by=[\"geohash\", \"timestamp\"])\n",
    "df.set_index(\"timestamp\", inplace=True)\n",
    "agg_df = (\n",
    "    df.groupby(\"geohash\")\n",
    "    .resample(f\"{TIME_GAP}s\")  # Group by 15-minute intervals\n",
    "    .agg(count=(\"geohash\", \"count\"))\n",
    "    .reset_index()\n",
    ")\n",
    "\n",
    "print(agg_df)"
   ]
  },
  {
   "cell_type": "code",
   "execution_count": 5,
   "metadata": {},
   "outputs": [],
   "source": [
    "os.chdir(\"src\")"
   ]
  },
  {
   "cell_type": "code",
   "execution_count": 6,
   "metadata": {},
   "outputs": [],
   "source": [
    "from arcdemo.constants import CONFIG_FILE_PATH\n",
    "from arcdemo.utils.common import read_config\n",
    "from dataclasses import dataclass\n",
    "\n",
    "# data_preparation:\n",
    "#   input_data_file: ../data/call_logs.csv\n",
    "#   history_in_hours: 3\n",
    "#   output_data_file: ../data/call_logs_prepared.csv\n",
    "\n",
    "\n",
    "@dataclass\n",
    "class DataPreparationConfig:\n",
    "    input_data_file: str\n",
    "    history_in_hours: int\n",
    "    output_data_file: str\n",
    "\n",
    "\n",
    "class ConfigurationManager:\n",
    "    def __init__(self, config_filepath=CONFIG_FILE_PATH):\n",
    "        self.config = read_config(config_filepath)\n",
    "\n",
    "    def get_data_preparation_config(self) -> DataPreparationConfig:\n",
    "        data_preparation_config = DataPreparationConfig(\n",
    "            input_data_file=self.config.data_preparation.input_data_file,\n",
    "            history_in_hours=self.config.data_preparation.history_in_hours,\n",
    "            output_data_file=self.config.data_preparation.output_data_file,\n",
    "        )\n",
    "        return data_preparation_config"
   ]
  },
  {
   "cell_type": "code",
   "execution_count": 30,
   "metadata": {},
   "outputs": [
    {
     "name": "stdout",
     "output_type": "stream",
     "text": [
      "[2025-02-16 16:52:06,332: INFO: common: Config file loaded: /Users/kzc0l4/arcdemo/confs/config.yaml]\n",
      "DataPreparationConfig(input_data_file='../data/call_logs.csv', history_in_hours=3, output_data_file='../data/call_logs_prepared.csv')\n"
     ]
    }
   ],
   "source": [
    "config = ConfigurationManager()\n",
    "\n",
    "print(config.get_data_preparation_config())"
   ]
  },
  {
   "cell_type": "code",
   "execution_count": 38,
   "metadata": {},
   "outputs": [
    {
     "data": {
      "text/plain": [
       "'/Users/kzc0l4/arcdemo/src'"
      ]
     },
     "execution_count": 38,
     "metadata": {},
     "output_type": "execute_result"
    }
   ],
   "source": [
    "os.chdir(\"src\")\n",
    "%pwd"
   ]
  },
  {
   "cell_type": "code",
   "execution_count": 57,
   "metadata": {},
   "outputs": [],
   "source": [
    "# Description: Generate random points within a bounding box.\n",
    "import pandas as pd\n",
    "from arcdemo.constants import TIME_GAP\n",
    "# from arcdemo.entity.config_entity import DataPreparationConfig\n",
    "\n",
    "\n",
    "class DataPreparation:\n",
    "    \"\"\"\n",
    "    Generate a geohash and aggregate by geohash and timestamp.\n",
    "    \"\"\"\n",
    "\n",
    "    def __init__(self, config: DataPreparationConfig):\n",
    "        self.config = config\n",
    "        self.df = pd.read_csv(self.config.input_data_file)\n",
    "        self.geohashed_df = None  # Stores geohashed data\n",
    "        self.aggregated_df = None  # Stores aggregated data\n",
    "\n",
    "    def truncate_call_logs(self):\n",
    "        \"\"\"\n",
    "        Read from file and return the last n hours of data.\n",
    "        Save the data back to that local file.\n",
    "        \"\"\"\n",
    "        now = pd.Timestamp.now()\n",
    "        self.df[\"timestamp\"] = pd.to_datetime(self.df[\"timestamp\"])\n",
    "        oldest_valid_value = now - pd.to_timedelta(self.config.history_in_hours, unit=\"hours\")\n",
    "        self.df = self.df[self.df[\"timestamp\"] >= oldest_valid_value]\n",
    "        self.df.to_csv(self.config.input_data_file, index=False)\n",
    "\n",
    "    def geohash_call_logs(self) -> pd.DataFrame:\n",
    "        \"\"\"\n",
    "        Generate a geohash for each datapoint.\n",
    "        \"\"\"\n",
    "        self.geohashed_df = self.df.copy()\n",
    "        self.geohashed_df[\"geohash\"] = self.geohashed_df.apply(\n",
    "            lambda x: geohash.encode(x[\"lat\"], x[\"lon\"], precision=5), axis=1\n",
    "        )\n",
    "\n",
    "    def aggregate_call_logs(self) -> pd.DataFrame:\n",
    "        \"\"\"\n",
    "        Aggregate the data by geohash and timestamp at TIME_GAP intervals.\n",
    "        \"\"\"\n",
    "        if self.geohashed_df is None:\n",
    "            raise ValueError(\"Error: Call geohash_call_logs() before aggregate_call_logs()\")\n",
    "\n",
    "        # Ensure timestamp is in datetime format\n",
    "        df = self.geohashed_df.copy()\n",
    "        # df[\"timestamp\"] = pd.to_datetime(df[\"timestamp\"])\n",
    "        df = df.sort_values(by=[\"geohash\", \"timestamp\"])\n",
    "        df.set_index(\"timestamp\", inplace=True)\n",
    "\n",
    "        # Aggregate data\n",
    "        self.aggregated_df = (\n",
    "            df.groupby(\"geohash\")\n",
    "            .resample(f\"{TIME_GAP}s\")\n",
    "            .agg(count=(\"geohash\", \"count\"))\n",
    "            .reset_index()\n",
    "        )\n",
    "\n",
    "        # Save the aggregated data\n",
    "        self.aggregated_df.to_csv(self.config.output_data_file, index=False)\n",
    "\n",
    "    def process_data(self):\n",
    "        \"\"\"\n",
    "        Run the full pipeline: truncate → geohash → aggregate.\n",
    "        \"\"\"\n",
    "        self.truncate_call_logs()\n",
    "        self.geohash_call_logs()\n",
    "        self.aggregate_call_logs()"
   ]
  },
  {
   "cell_type": "code",
   "execution_count": 59,
   "metadata": {},
   "outputs": [
    {
     "name": "stdout",
     "output_type": "stream",
     "text": [
      "[2025-02-16 17:04:42,477: INFO: common: Config file loaded: /Users/kzc0l4/arcdemo/confs/config.yaml]\n"
     ]
    }
   ],
   "source": [
    "config = ConfigurationManager()\n",
    "data_preparation_config = config.get_data_preparation_config()\n",
    "data_preparation = DataPreparation(config=data_preparation_config)\n",
    "# print(data_preparation_config)\n",
    "# # bbox = BoundingBox(40.5, 40.9, -74.3, -73.7)\n",
    "# df = data_preparation.truncate_call_logs()\n",
    "# df = data_preparation.geohash_call_logs()\n",
    "# df = data_preparation.aggregate_call_logs()\n",
    "df = data_preparation.process_data()"
   ]
  }
 ],
 "metadata": {
  "kernelspec": {
   "display_name": "venv",
   "language": "python",
   "name": "python3"
  },
  "language_info": {
   "codemirror_mode": {
    "name": "ipython",
    "version": 3
   },
   "file_extension": ".py",
   "mimetype": "text/x-python",
   "name": "python",
   "nbconvert_exporter": "python",
   "pygments_lexer": "ipython3",
   "version": "3.11.11"
  }
 },
 "nbformat": 4,
 "nbformat_minor": 2
}
